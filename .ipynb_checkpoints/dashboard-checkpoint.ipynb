{
 "cells": [
  {
   "cell_type": "code",
   "execution_count": 1,
   "metadata": {
    "collapsed": true
   },
   "outputs": [],
   "source": [
    "import pandas as pd\n",
    "import datetime as dt\n",
    "import os, sys"
   ]
  },
  {
   "cell_type": "code",
   "execution_count": 2,
   "metadata": {
    "collapsed": false
   },
   "outputs": [],
   "source": [
    "path = '/home/incogrev/BTC_Wallet/datafiles/'\n",
    "dirs = os.listdir(path)\n",
    "#dirs"
   ]
  },
  {
   "cell_type": "code",
   "execution_count": 3,
   "metadata": {
    "collapsed": false
   },
   "outputs": [
    {
     "name": "stdout",
     "output_type": "stream",
     "text": [
      "Revenue\n"
     ]
    },
    {
     "data": {
      "text/html": [
       "<div>\n",
       "<table border=\"1\" class=\"dataframe\">\n",
       "  <thead>\n",
       "    <tr style=\"text-align: right;\">\n",
       "      <th></th>\n",
       "      <th>source</th>\n",
       "      <th>category</th>\n",
       "      <th>balance</th>\n",
       "      <th>timestamp</th>\n",
       "    </tr>\n",
       "  </thead>\n",
       "  <tbody>\n",
       "    <tr>\n",
       "      <th>0</th>\n",
       "      <td>poloniex</td>\n",
       "      <td>income</td>\n",
       "      <td>2914.934169</td>\n",
       "      <td>2017-04-11 21:29:05</td>\n",
       "    </tr>\n",
       "    <tr>\n",
       "      <th>1</th>\n",
       "      <td>paypal</td>\n",
       "      <td>income</td>\n",
       "      <td>1914.800000</td>\n",
       "      <td>2017-04-10 08:10:33</td>\n",
       "    </tr>\n",
       "    <tr>\n",
       "      <th>2</th>\n",
       "      <td>coinbase</td>\n",
       "      <td>income</td>\n",
       "      <td>0.000000</td>\n",
       "      <td>2017-04-11 21:29:06</td>\n",
       "    </tr>\n",
       "    <tr>\n",
       "      <th>3</th>\n",
       "      <td>localbtc</td>\n",
       "      <td>income</td>\n",
       "      <td>0.000000</td>\n",
       "      <td>2017-04-11 21:29:06</td>\n",
       "    </tr>\n",
       "    <tr>\n",
       "      <th>4</th>\n",
       "      <td>bitfinex</td>\n",
       "      <td>income</td>\n",
       "      <td>3887.973809</td>\n",
       "      <td>2017-04-11 21:29:03</td>\n",
       "    </tr>\n",
       "  </tbody>\n",
       "</table>\n",
       "</div>"
      ],
      "text/plain": [
       "     source category      balance            timestamp\n",
       "0  poloniex   income  2914.934169  2017-04-11 21:29:05\n",
       "1    paypal   income  1914.800000  2017-04-10 08:10:33\n",
       "2  coinbase   income     0.000000  2017-04-11 21:29:06\n",
       "3  localbtc   income     0.000000  2017-04-11 21:29:06\n",
       "4  bitfinex   income  3887.973809  2017-04-11 21:29:03"
      ]
     },
     "execution_count": 3,
     "metadata": {},
     "output_type": "execute_result"
    }
   ],
   "source": [
    "#reading all files' last record into a dataframe\n",
    "dropCSV_list = ['expense.csv', 'rollingpnl.csv']\n",
    "\n",
    "for file in dropCSV_list:\n",
    "    if file in dirs:\n",
    "        dirs.pop(dirs.index(file))        \n",
    "\n",
    "dfRevenue = pd.DataFrame()\n",
    "for file in dirs:\n",
    "    rec = pd.read_csv(path+file).tail(1).fillna(0)\n",
    "    dfRevenue = pd.concat([dfRevenue, rec])\n",
    "dfRevenue = dfRevenue.reset_index(drop=True)\n",
    "print(\"Revenue\")\n",
    "dfRevenue"
   ]
  },
  {
   "cell_type": "code",
   "execution_count": 4,
   "metadata": {
    "collapsed": false
   },
   "outputs": [],
   "source": [
    "dfRevenue['timestamp'] = pd.to_datetime(dfRevenue['timestamp'])\n",
    "dfRevenue['date']  = dfRevenue['timestamp'].dt.date\n",
    "\n",
    "dictRevenue = { 'revenue':[sum(dfRevenue['balance'],)], 'date': [max(dfRevenue['date']),]}\n",
    "dfIncome = pd.DataFrame(dictRevenue)\n",
    "\n",
    "#dictRevenue\n",
    "#print(\"Total Revenue\")\n",
    "#dfIncome"
   ]
  },
  {
   "cell_type": "code",
   "execution_count": 5,
   "metadata": {
    "collapsed": false
   },
   "outputs": [
    {
     "name": "stdout",
     "output_type": "stream",
     "text": [
      "Expenses\n"
     ]
    },
    {
     "data": {
      "text/html": [
       "<div>\n",
       "<table border=\"1\" class=\"dataframe\">\n",
       "  <thead>\n",
       "    <tr style=\"text-align: right;\">\n",
       "      <th></th>\n",
       "      <th>investor_capital</th>\n",
       "      <th>general_ledger</th>\n",
       "      <th>customer_loans</th>\n",
       "      <th>date</th>\n",
       "    </tr>\n",
       "  </thead>\n",
       "  <tbody>\n",
       "    <tr>\n",
       "      <th>0</th>\n",
       "      <td>11000</td>\n",
       "      <td>500</td>\n",
       "      <td>500</td>\n",
       "      <td>2017-04-11</td>\n",
       "    </tr>\n",
       "  </tbody>\n",
       "</table>\n",
       "</div>"
      ],
      "text/plain": [
       "   investor_capital  general_ledger  customer_loans        date\n",
       "0             11000             500             500  2017-04-11"
      ]
     },
     "execution_count": 5,
     "metadata": {},
     "output_type": "execute_result"
    }
   ],
   "source": [
    "dfExpense = pd.read_csv(path+'expense.csv').tail(1).fillna(0)\n",
    "print(\"Expenses\")\n",
    "dfExpense"
   ]
  },
  {
   "cell_type": "code",
   "execution_count": 6,
   "metadata": {
    "collapsed": false
   },
   "outputs": [],
   "source": [
    "dictTransaction = {'expense':[sum(dfExpense['investor_capital']+dfExpense['general_ledger']+dfExpense['customer_loans']),], \n",
    "                   'date': [max(dfExpense['date']),]}\n",
    "dfTransaction = pd.DataFrame(dictTransaction)\n",
    "dfTransaction['date'] = pd.to_datetime(dfTransaction['date'])\n",
    "dfTransaction['date'] = dfTransaction['date'].dt.date\n",
    "#print(\"Total Expenses\")\n",
    "#dfTransaction"
   ]
  },
  {
   "cell_type": "code",
   "execution_count": 7,
   "metadata": {
    "collapsed": false
   },
   "outputs": [],
   "source": [
    "dfPnL = dfTransaction\n",
    "dfPnL = dfPnL.merge(dfIncome, on = 'date')\n",
    "dfPnL['PnL'] = dfPnL['revenue'] - dfPnL['expense']\n",
    "#print(\"P/L Statement\")\n",
    "#dfPnL"
   ]
  },
  {
   "cell_type": "code",
   "execution_count": 8,
   "metadata": {
    "collapsed": false
   },
   "outputs": [],
   "source": [
    "existingPnL = pd.read_csv(path+'rollingpnl.csv').fillna(0)\n",
    "existingPnL['date'] = pd.to_datetime(existingPnL['date'])\n",
    "existingPnL['date'] = existingPnL['date'].dt.date"
   ]
  },
  {
   "cell_type": "code",
   "execution_count": 9,
   "metadata": {
    "collapsed": false
   },
   "outputs": [],
   "source": [
    "existingPnL = existingPnL[~existingPnL.date.isin(dfPnL.date)]"
   ]
  },
  {
   "cell_type": "code",
   "execution_count": 10,
   "metadata": {
    "collapsed": false
   },
   "outputs": [],
   "source": [
    "existingPnL = pd.concat([existingPnL, dfPnL]).fillna(0)"
   ]
  },
  {
   "cell_type": "code",
   "execution_count": 11,
   "metadata": {
    "collapsed": false
   },
   "outputs": [],
   "source": [
    "col_list = ['date', 'revenue', 'expense']\n",
    "existingPnL = existingPnL[col_list]\n",
    "existingPnL['PnL'] = existingPnL['revenue'] - existingPnL['expense']\n",
    "existingPnL = existingPnL.sort_values(by = 'date').reset_index(drop = True)"
   ]
  },
  {
   "cell_type": "code",
   "execution_count": 12,
   "metadata": {
    "collapsed": false
   },
   "outputs": [],
   "source": [
    "existingPnL['rollingAvg'] = existingPnL['PnL'].rolling(window = 30).mean()"
   ]
  },
  {
   "cell_type": "code",
   "execution_count": 13,
   "metadata": {
    "collapsed": false
   },
   "outputs": [
    {
     "data": {
      "text/html": [
       "<div>\n",
       "<table border=\"1\" class=\"dataframe\">\n",
       "  <thead>\n",
       "    <tr style=\"text-align: right;\">\n",
       "      <th></th>\n",
       "      <th>date</th>\n",
       "      <th>revenue</th>\n",
       "      <th>expense</th>\n",
       "      <th>PnL</th>\n",
       "      <th>rollingAvg</th>\n",
       "    </tr>\n",
       "  </thead>\n",
       "  <tbody>\n",
       "    <tr>\n",
       "      <th>35</th>\n",
       "      <td>2017-05-06</td>\n",
       "      <td>3252.0</td>\n",
       "      <td>1524.0</td>\n",
       "      <td>1728.0</td>\n",
       "      <td>-288.576401</td>\n",
       "    </tr>\n",
       "  </tbody>\n",
       "</table>\n",
       "</div>"
      ],
      "text/plain": [
       "          date  revenue  expense     PnL  rollingAvg\n",
       "35  2017-05-06   3252.0   1524.0  1728.0 -288.576401"
      ]
     },
     "execution_count": 13,
     "metadata": {},
     "output_type": "execute_result"
    }
   ],
   "source": [
    "existingPnL.tail(1)"
   ]
  },
  {
   "cell_type": "code",
   "execution_count": 14,
   "metadata": {
    "collapsed": true
   },
   "outputs": [],
   "source": [
    "existingPnL.to_csv(path_or_buf= path + 'rollingpnl.csv')"
   ]
  },
  {
   "cell_type": "code",
   "execution_count": null,
   "metadata": {
    "collapsed": true
   },
   "outputs": [],
   "source": []
  }
 ],
 "metadata": {
  "kernelspec": {
   "display_name": "Python 3",
   "language": "python",
   "name": "python3"
  },
  "language_info": {
   "codemirror_mode": {
    "name": "ipython",
    "version": 3
   },
   "file_extension": ".py",
   "mimetype": "text/x-python",
   "name": "python",
   "nbconvert_exporter": "python",
   "pygments_lexer": "ipython3",
   "version": "3.6.0"
  }
 },
 "nbformat": 4,
 "nbformat_minor": 2
}
